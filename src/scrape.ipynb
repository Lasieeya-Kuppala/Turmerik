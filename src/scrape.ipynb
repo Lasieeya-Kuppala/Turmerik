{
 "cells": [
  {
   "cell_type": "code",
   "execution_count": 1,
   "id": "3e554c4d-7276-4445-b523-8c8b1b451acb",
   "metadata": {},
   "outputs": [
    {
     "name": "stdout",
     "output_type": "stream",
     "text": [
      "Requirement already satisfied: requests in c:\\users\\admin\\appdata\\roaming\\python\\python312\\site-packages (2.32.3)\n",
      "Requirement already satisfied: beautifulsoup4 in c:\\users\\admin\\appdata\\roaming\\python\\python312\\site-packages (4.12.3)\n",
      "Requirement already satisfied: charset-normalizer<4,>=2 in c:\\users\\admin\\appdata\\roaming\\python\\python312\\site-packages (from requests) (3.3.2)\n",
      "Requirement already satisfied: idna<4,>=2.5 in c:\\users\\admin\\appdata\\roaming\\python\\python312\\site-packages (from requests) (3.10)\n",
      "Requirement already satisfied: urllib3<3,>=1.21.1 in c:\\users\\admin\\appdata\\roaming\\python\\python312\\site-packages (from requests) (2.2.3)\n",
      "Requirement already satisfied: certifi>=2017.4.17 in c:\\users\\admin\\appdata\\roaming\\python\\python312\\site-packages (from requests) (2024.8.30)\n",
      "Requirement already satisfied: soupsieve>1.2 in c:\\users\\admin\\appdata\\roaming\\python\\python312\\site-packages (from beautifulsoup4) (2.6)\n",
      "Note: you may need to restart the kernel to use updated packages.\n"
     ]
    }
   ],
   "source": [
    "pip install requests beautifulsoup4\n"
   ]
  },
  {
   "cell_type": "code",
   "execution_count": 7,
   "id": "57c4dbb9-32dd-4d86-b191-366176c3cfd0",
   "metadata": {},
   "outputs": [],
   "source": [
    "import requests\n",
    "from bs4 import BeautifulSoup\n",
    "\n",
    "def scrape_active_trials():\n",
    "    url = 'https://clinicaltrials.gov/search?aggFilters=status:rec'\n",
    "    \n",
    "    # Send the GET request to the URL\n",
    "    response = requests.get(url)\n",
    "    response.raise_for_status()  # Check for request errors\n",
    "\n",
    "    # Parse the HTML content\n",
    "    soup = BeautifulSoup(response.text, 'html.parser')\n",
    "    trials = []\n",
    "\n",
    "    # Extract trial information\n",
    "    for row in soup.find_all('tr', class_='clinical-trial-row'):\n",
    "        trial_id = row.find('td', class_='trial-id').get_text(strip=True)\n",
    "        trial_title = row.find('td', class_='trial-title').get_text(strip=True)\n",
    "        trials.append({\n",
    "            'trial_id': trial_id,\n",
    "            'title': trial_title\n",
    "        })\n",
    "\n",
    "    return trials\n",
    "\n",
    "if __name__ == \"__main__\":\n",
    "    active_trials = scrape_active_trials()\n"
   ]
  },
  {
   "cell_type": "code",
   "execution_count": null,
   "id": "730975aa-3677-406b-b284-b5052c31a2dc",
   "metadata": {},
   "outputs": [],
   "source": []
  }
 ],
 "metadata": {
  "kernelspec": {
   "display_name": "Python 3 (ipykernel)",
   "language": "python",
   "name": "python3"
  },
  "language_info": {
   "codemirror_mode": {
    "name": "ipython",
    "version": 3
   },
   "file_extension": ".py",
   "mimetype": "text/x-python",
   "name": "python",
   "nbconvert_exporter": "python",
   "pygments_lexer": "ipython3",
   "version": "3.12.4"
  }
 },
 "nbformat": 4,
 "nbformat_minor": 5
}
