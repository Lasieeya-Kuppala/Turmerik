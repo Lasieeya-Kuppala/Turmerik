{
 "cells": [
  {
   "cell_type": "markdown",
   "id": "dcb1a981-b1a3-41f3-ab5e-7535df1dd012",
   "metadata": {},
   "source": [
    "Turmerik\n",
    "\n",
    "ML/SWE Take Home Assignment"
   ]
  },
  {
   "cell_type": "code",
   "execution_count": 39,
   "id": "725ce95e-4169-4a81-8e38-563e05f7af1f",
   "metadata": {
    "scrolled": true
   },
   "outputs": [
    {
     "name": "stdout",
     "output_type": "stream",
     "text": [
      "Requirement already satisfied: pandas in c:\\users\\admin\\anaconda3\\lib\\site-packages (2.2.2)\n",
      "Requirement already satisfied: requests in c:\\users\\admin\\appdata\\roaming\\python\\python312\\site-packages (2.32.3)\n",
      "Requirement already satisfied: beautifulsoup4 in c:\\users\\admin\\appdata\\roaming\\python\\python312\\site-packages (4.12.3)\n",
      "Requirement already satisfied: openpyxl in c:\\users\\admin\\anaconda3\\lib\\site-packages (3.1.2)\n",
      "Requirement already satisfied: numpy>=1.26.0 in c:\\users\\admin\\anaconda3\\lib\\site-packages (from pandas) (1.26.4)\n",
      "Requirement already satisfied: python-dateutil>=2.8.2 in c:\\users\\admin\\appdata\\roaming\\python\\python312\\site-packages (from pandas) (2.9.0.post0)\n",
      "Requirement already satisfied: pytz>=2020.1 in c:\\users\\admin\\anaconda3\\lib\\site-packages (from pandas) (2024.1)\n",
      "Requirement already satisfied: tzdata>=2022.7 in c:\\users\\admin\\anaconda3\\lib\\site-packages (from pandas) (2023.3)\n",
      "Requirement already satisfied: charset-normalizer<4,>=2 in c:\\users\\admin\\appdata\\roaming\\python\\python312\\site-packages (from requests) (3.3.2)\n",
      "Requirement already satisfied: idna<4,>=2.5 in c:\\users\\admin\\appdata\\roaming\\python\\python312\\site-packages (from requests) (3.10)\n",
      "Requirement already satisfied: urllib3<3,>=1.21.1 in c:\\users\\admin\\appdata\\roaming\\python\\python312\\site-packages (from requests) (2.2.3)\n",
      "Requirement already satisfied: certifi>=2017.4.17 in c:\\users\\admin\\appdata\\roaming\\python\\python312\\site-packages (from requests) (2024.8.30)\n",
      "Requirement already satisfied: soupsieve>1.2 in c:\\users\\admin\\appdata\\roaming\\python\\python312\\site-packages (from beautifulsoup4) (2.6)\n",
      "Requirement already satisfied: et-xmlfile in c:\\users\\admin\\anaconda3\\lib\\site-packages (from openpyxl) (1.1.0)\n",
      "Requirement already satisfied: six>=1.5 in c:\\users\\admin\\appdata\\roaming\\python\\python312\\site-packages (from python-dateutil>=2.8.2->pandas) (1.16.0)\n",
      "Note: you may need to restart the kernel to use updated packages.\n"
     ]
    }
   ],
   "source": [
    "pip install pandas requests beautifulsoup4 openpyxl"
   ]
  },
  {
   "cell_type": "markdown",
   "id": "0a719ea5-ad27-4631-8e5c-8438fec9224a",
   "metadata": {},
   "source": [
    "Load patient data from https://synthea.mitre.org/downloads "
   ]
  },
  {
   "cell_type": "code",
   "execution_count": 41,
   "id": "fe0ced73-4f03-4208-ad8f-06ebd9799bbf",
   "metadata": {},
   "outputs": [],
   "source": [
    "import pandas as pd\n",
    "import zipfile\n",
    "import requests\n",
    "import os\n",
    "\n",
    "# Download and extract patient data\n",
    "url = \"https://synthetichealth.github.io/synthea-sample-data/downloads/latest/synthea_sample_data_csv_latest.zip\"\n",
    "response = requests.get(url)\n"
   ]
  },
  {
   "cell_type": "code",
   "execution_count": 42,
   "id": "507a4bd4-0cbe-4d5b-a25e-6a0f6eaf2199",
   "metadata": {},
   "outputs": [],
   "source": [
    "with open(\"synthea_sample_data.zip\", \"wb\") as f:\n",
    "    f.write(response.content)\n",
    "\n",
    "with zipfile.ZipFile(\"synthea_sample_data.zip\", 'r') as zip_ref:\n",
    "    zip_ref.extractall(\"synthea_data\")"
   ]
  },
  {
   "cell_type": "code",
   "execution_count": 43,
   "id": "d2ffdac1-8e92-49ba-8d2b-e8ea93bba803",
   "metadata": {},
   "outputs": [
    {
     "name": "stdout",
     "output_type": "stream",
     "text": [
      "                                     Id   BIRTHDATE   DEATHDATE          SSN  \\\n",
      "0  e93300bf-3a53-55c0-bd38-2ede59462f21  2007-09-26         NaN  999-29-1917   \n",
      "1  6b0b0021-df03-cbb6-305a-11ec40da7af4  1976-07-01         NaN  999-18-2851   \n",
      "2  9eedeb5a-e86d-ddd6-f928-ae031b593968  1989-10-06         NaN  999-58-1934   \n",
      "3  3cd46ba4-0a11-1c66-8525-3f4230e65ba3  1924-07-21  1991-10-22  999-59-1289   \n",
      "4  87f6c14f-38d1-966f-4109-ac29736ec22f  2005-06-16         NaN  999-16-7582   \n",
      "\n",
      "     DRIVERS    PASSPORT PREFIX       FIRST       MIDDLE           LAST  ...  \\\n",
      "0  S99913610         NaN    NaN  Aurelia213  Brittani427        Koss676  ...   \n",
      "1  S99956306  X62363531X    Mr.    Elwood28      Shad704       Wyman904  ...   \n",
      "2  S99967185  X51740587X   Mrs.  Claudia969   Willena258   Considine820  ...   \n",
      "3  S99986596  X27317207X   Mrs.      Jen355    Tempie784    Botsford977  ...   \n",
      "4  S99989952         NaN    Mr.  Wallace647    Quincy153  Hodkiewicz467  ...   \n",
      "\n",
      "          CITY          STATE            COUNTY     FIPS   ZIP        LAT  \\\n",
      "0  Springfield  Massachusetts    Hampden County  25013.0  1109  42.079213   \n",
      "1    Wellesley  Massachusetts    Norfolk County  25021.0  2492  42.272225   \n",
      "2   Blackstone  Massachusetts  Worcester County      NaN     0  42.041838   \n",
      "3      Concord  Massachusetts  Middlesex County      NaN     0  42.501181   \n",
      "4      Norfolk  Massachusetts    Norfolk County      NaN     0  42.165897   \n",
      "\n",
      "         LON HEALTHCARE_EXPENSES HEALTHCARE_COVERAGE  INCOME  \n",
      "0 -72.534517           380291.57           317857.57   57031  \n",
      "1 -71.263486           120145.63             6402.88  805037  \n",
      "2 -71.511724            15562.09          1419588.07   22003  \n",
      "3 -71.341733           323544.12            26436.60  116208  \n",
      "4 -71.326796             4365.61            64839.98    7018  \n",
      "\n",
      "[5 rows x 28 columns]\n"
     ]
    }
   ],
   "source": [
    "#load patient data\n",
    "patient_data = pd.read_csv(\"synthea_data/patients.csv\")\n",
    "print(patient_data.head())\n"
   ]
  },
  {
   "cell_type": "code",
   "execution_count": 44,
   "id": "c1a4aa48-3bd0-4654-ae9d-5f9f6ff5e765",
   "metadata": {},
   "outputs": [
    {
     "name": "stdout",
     "output_type": "stream",
     "text": [
      "        START        STOP                               PATIENT  \\\n",
      "0  2010-02-13         NaN  e93300bf-3a53-55c0-bd38-2ede59462f21   \n",
      "1  1991-03-14         NaN  6b0b0021-df03-cbb6-305a-11ec40da7af4   \n",
      "2  1993-08-19         NaN  6b0b0021-df03-cbb6-305a-11ec40da7af4   \n",
      "3  1994-08-25         NaN  6b0b0021-df03-cbb6-305a-11ec40da7af4   \n",
      "4  2012-09-05  2016-09-21  e93300bf-3a53-55c0-bd38-2ede59462f21   \n",
      "\n",
      "                              ENCOUNTER                  SYSTEM       CODE  \\\n",
      "0  54610a6c-47b4-79f4-e75d-80f3ed4c8437  http://snomed.info/sct  367498001   \n",
      "1  38c0ae05-587a-15f4-7e0a-4a38a9f27351  http://snomed.info/sct   37320007   \n",
      "2  e2ddb71b-5ac0-e4c9-c083-8efc7f2a3b5d  http://snomed.info/sct  160968000   \n",
      "3  b877d6b4-8cce-aa1c-7ed9-efb5424f436b  http://snomed.info/sct  224299000   \n",
      "4  54f02fad-1ad7-7139-ae76-1fc8db2ac30c  http://snomed.info/sct  314529007   \n",
      "\n",
      "                           DESCRIPTION  \n",
      "0           Seasonal allergic rhinitis  \n",
      "1             Loss of teeth (disorder)  \n",
      "2  Risk activity involvement (finding)  \n",
      "3  Received higher education (finding)  \n",
      "4    Medication review due (situation)  \n"
     ]
    }
   ],
   "source": [
    "#load conditions data\n",
    "conditions_data = pd.read_csv(\"synthea_data/conditions.csv\")\n",
    "print(conditions_data.head())"
   ]
  },
  {
   "cell_type": "code",
   "execution_count": 45,
   "id": "a9408212-8e21-4ab4-906c-8559f1574a70",
   "metadata": {},
   "outputs": [
    {
     "name": "stdout",
     "output_type": "stream",
     "text": [
      "                  START                  STOP  \\\n",
      "0  2010-02-13T20:39:01Z                   NaN   \n",
      "1  2010-02-23T17:00:43Z                   NaN   \n",
      "2  2016-09-10T04:00:34Z  2016-09-17T04:00:34Z   \n",
      "3  1990-10-09T11:32:47Z                   NaN   \n",
      "4  1990-10-09T11:32:47Z                   NaN   \n",
      "\n",
      "                                PATIENT                                 PAYER  \\\n",
      "0  e93300bf-3a53-55c0-bd38-2ede59462f21  e03e23c9-4df1-3eb6-a62d-f70f02301496   \n",
      "1  e93300bf-3a53-55c0-bd38-2ede59462f21  e03e23c9-4df1-3eb6-a62d-f70f02301496   \n",
      "2  e93300bf-3a53-55c0-bd38-2ede59462f21  e03e23c9-4df1-3eb6-a62d-f70f02301496   \n",
      "3  9eedeb5a-e86d-ddd6-f928-ae031b593968  df166300-5a78-3502-a46a-832842197811   \n",
      "4  9eedeb5a-e86d-ddd6-f928-ae031b593968  df166300-5a78-3502-a46a-832842197811   \n",
      "\n",
      "                              ENCOUNTER     CODE  \\\n",
      "0  54610a6c-47b4-79f4-e75d-80f3ed4c8437   997488   \n",
      "1  ff9cd443-94ae-4d03-5548-d9eeaa140ac2  1870230   \n",
      "2  0dcd99ad-9b21-681c-8cba-2321c6cc3ec2   313782   \n",
      "3  ccf940a7-5f03-7466-f62b-a3994c5a5694   197378   \n",
      "4  ccf940a7-5f03-7466-f62b-a3994c5a5694  1870230   \n",
      "\n",
      "                                         DESCRIPTION  BASE_COST  \\\n",
      "0       Fexofenadine hydrochloride 30 MG Oral Tablet     214.03   \n",
      "1  NDA020800 0.3 ML Epinephrine 1 MG/ML Auto-Inje...      51.29   \n",
      "2                   Acetaminophen 325 MG Oral Tablet     183.45   \n",
      "3                       Astemizole 10 MG Oral Tablet      53.72   \n",
      "4  NDA020800 0.3 ML Epinephrine 1 MG/ML Auto-Inje...      37.76   \n",
      "\n",
      "   PAYER_COVERAGE  DISPENSES  TOTALCOST  REASONCODE  \\\n",
      "0            0.00        177   37883.31         NaN   \n",
      "1            0.00        177    9078.33         NaN   \n",
      "2            0.00          1     183.45  10509002.0   \n",
      "3            3.72        413   22186.36         NaN   \n",
      "4            0.00        413   15594.88         NaN   \n",
      "\n",
      "             REASONDESCRIPTION  \n",
      "0                          NaN  \n",
      "1                          NaN  \n",
      "2  Acute bronchitis (disorder)  \n",
      "3                          NaN  \n",
      "4                          NaN  \n"
     ]
    }
   ],
   "source": [
    "#Load medications data\n",
    "medications_data = pd.read_csv(\"synthea_data/medications.csv\")\n",
    "print(medications_data.head())"
   ]
  },
  {
   "cell_type": "code",
   "execution_count": 46,
   "id": "a09926eb-6443-485d-9a78-ed50cf1b6350",
   "metadata": {},
   "outputs": [
    {
     "name": "stdout",
     "output_type": "stream",
     "text": [
      "                   DATE                               PATIENT  \\\n",
      "0  2014-09-17T20:39:01Z  e93300bf-3a53-55c0-bd38-2ede59462f21   \n",
      "1  2014-09-17T20:39:01Z  e93300bf-3a53-55c0-bd38-2ede59462f21   \n",
      "2  2014-09-17T20:39:01Z  e93300bf-3a53-55c0-bd38-2ede59462f21   \n",
      "3  2014-09-17T20:39:01Z  e93300bf-3a53-55c0-bd38-2ede59462f21   \n",
      "4  2014-09-17T20:39:01Z  e93300bf-3a53-55c0-bd38-2ede59462f21   \n",
      "\n",
      "                              ENCOUNTER     CATEGORY     CODE  \\\n",
      "0  7c82530b-aff3-1bcb-8c34-617ec869c429  vital-signs   8302-2   \n",
      "1  7c82530b-aff3-1bcb-8c34-617ec869c429  vital-signs  72514-3   \n",
      "2  7c82530b-aff3-1bcb-8c34-617ec869c429  vital-signs  29463-7   \n",
      "3  7c82530b-aff3-1bcb-8c34-617ec869c429  vital-signs  39156-5   \n",
      "4  7c82530b-aff3-1bcb-8c34-617ec869c429  vital-signs  59576-9   \n",
      "\n",
      "                                         DESCRIPTION  VALUE    UNITS     TYPE  \n",
      "0                                        Body Height  120.0       cm  numeric  \n",
      "1  Pain severity - 0-10 verbal numeric rating [Sc...    4.0  {score}  numeric  \n",
      "2                                        Body Weight   29.7       kg  numeric  \n",
      "3                      Body mass index (BMI) [Ratio]   20.6    kg/m2  numeric  \n",
      "4  Body mass index (BMI) [Percentile] Per age and...   96.9        %  numeric  \n"
     ]
    }
   ],
   "source": [
    "# Load observations data\n",
    "\n",
    "observations_data = pd.read_csv(\"synthea_data/observations.csv\")\n",
    "print(observations_data.head())"
   ]
  },
  {
   "cell_type": "code",
   "execution_count": 47,
   "id": "caafc8a2-73d0-493f-a635-7e6dc033f392",
   "metadata": {},
   "outputs": [],
   "source": [
    "# Function to calculate age from birthdate\n",
    "from datetime import datetime\n",
    "def calculate_age(birthdate):\n",
    "    if pd.isna(birthdate):\n",
    "        return None\n",
    "    birth_date = pd.to_datetime(birthdate)\n",
    "    today = datetime.today()\n",
    "    return today.year - birth_date.year - ((today.month, today.day) < (birth_date.month, birth_date.day))\n",
    "\n",
    "# Add an AGE column to the patient DataFrame\n",
    "patient_data['AGE'] = patient_data['BIRTHDATE'].apply(calculate_age)"
   ]
  },
  {
   "cell_type": "code",
   "execution_count": 48,
   "id": "d386071f-3e98-44ed-8d2e-8d1db5661ef0",
   "metadata": {},
   "outputs": [],
   "source": [
    "# Create a list to store patient profiles\n",
    "#Create Patient Profiles: Extract relevant attributes into a structured format\n",
    "patient_profiles = []\n",
    "\n",
    "# Iterate through each patient\n",
    "for _, patient in patient_data.iterrows():\n",
    "    patient_id = patient['Id']\n",
    "    \n",
    "    # Get patient attributes\n",
    "    profile = {\n",
    "        'patientId': patient_id,\n",
    "        'age': patient['AGE'],\n",
    "        'gender': patient['GENDER'],\n",
    "        'conditions': conditions_data[conditions_data['PATIENT'] == patient_id]['DESCRIPTION'].tolist(),\n",
    "        'labResults': observations_data[observations_data['PATIENT'] == patient_id][['DESCRIPTION', 'VALUE', 'UNITS']].dropna().values.tolist(),\n",
    "        'medications': medications_data[medications_data['PATIENT'] == patient_id][['DESCRIPTION', 'REASONDESCRIPTION']].dropna().values.tolist()\n",
    "    }\n",
    "    \n",
    "    patient_profiles.append(profile)\n",
    "    "
   ]
  },
  {
   "cell_type": "code",
   "execution_count": 49,
   "id": "63291376-2cc0-4092-b098-a740289dfe2b",
   "metadata": {},
   "outputs": [],
   "source": [
    "import pandas as pd\n",
    "\n",
    "# Load trial data from Google Sheets as a CSV\n",
    "trials_data = pd.read_csv('https://docs.google.com/spreadsheets/d/1ntxXSP5uOoOAlgf4N6SmLbPdxmaCAQZfuEZWJ0ULS8o/export?format=csv')\n",
    "trials_data = trials_data.rename(columns={\n",
    "    'NCT Number': 'nct_number',\n",
    "    'Study Title': 'study_title',\n",
    "    'Age': 'age',  \n",
    "    'Conditions': 'conditions'\n",
    "})\n"
   ]
  },
  {
   "cell_type": "markdown",
   "id": "dfa773a1-6430-4e2f-aecf-c1245f2a5400",
   "metadata": {},
   "source": [
    "Develop Functions to Check Inclusion/Exclusion Criteria\n",
    "Implement Eligibility Check: Create a function to evaluate patient eligibility against trial criteria."
   ]
  },
  {
   "cell_type": "code",
   "execution_count": 51,
   "id": "3672f509-7c50-41bd-98b5-243101e9b6c4",
   "metadata": {},
   "outputs": [],
   "source": [
    "# Define a function to check eligibility for a trial\n",
    "def check_eligibility(patient, trial):\n",
    "    criteria_met = []\n",
    "    \n",
    "    # Check age criteria\n",
    "    if isinstance(trial['age'], str):\n",
    "        age_range = trial['age'].split(' to ')\n",
    "        min_age = int(age_range[0]) if age_range[0].isdigit() else None\n",
    "        max_age = int(age_range[1]) if len(age_range) > 1 and age_range[1].isdigit() else None\n",
    "\n",
    "        if (min_age is None or patient['age'] >= min_age) and (max_age is None or patient['age'] <= max_age):\n",
    "            criteria_met.append(\"Inclusion Criteria\")\n",
    "    \n",
    "    # Check conditions\n",
    "    trial_conditions = trial['conditions'].split(',') if isinstance(trial['conditions'], str) else []\n",
    "    if not any(condition in trial_conditions for condition in patient['conditions']):\n",
    "        criteria_met.append(\"Exclusion Criteria\")\n",
    "\n",
    "    return criteria_met\n"
   ]
  },
  {
   "cell_type": "markdown",
   "id": "b34c3926-d615-4d71-a6ca-8d486cd4a0ec",
   "metadata": {},
   "source": [
    "Implement Main Matching Logic\n",
    "Match Patients to Trials: Iterate through patients and trials to find eligible matches."
   ]
  },
  {
   "cell_type": "code",
   "execution_count": 53,
   "id": "e4fe2dd8-65bb-42ab-bb1e-3707bceb0276",
   "metadata": {},
   "outputs": [],
   "source": [
    "def match_patients_to_trials(patient_profiles, trials_data):\n",
    "    results = []\n",
    "    for patient in patient_profiles:\n",
    "        patient_results = {\"patientId\": patient['patientId'], \"eligibleTrials\": []}\n",
    "        \n",
    "        for _, trial in trials_data.iterrows():\n",
    "            eligibility = check_eligibility(patient, trial)\n",
    "            if eligibility:\n",
    "                trial_data = {\n",
    "                    \"trialId\": trial['nct_number'],\n",
    "                    \"trialName\": trial['study_title'],\n",
    "                    \"eligibilityCriteriaMet\": eligibility\n",
    "                }\n",
    "                patient_results[\"eligibleTrials\"].append(trial_data)\n",
    "        \n",
    "        results.append(patient_results)\n",
    "    return results\n",
    "\n",
    "# Assuming trials_data is already loaded and formatted\n",
    "results = match_patients_to_trials(patient_profiles, trials_data)\n"
   ]
  },
  {
   "cell_type": "markdown",
   "id": "709c1cd0-1e30-43dd-b902-94d4310cad5c",
   "metadata": {},
   "source": [
    "Output Generation\n",
    "Create Functions for Output: Write functions to format and save results in JSON and Excel."
   ]
  },
  {
   "cell_type": "code",
   "execution_count": 55,
   "id": "86de7900-4dad-40c1-8f8e-5d7bbecba19b",
   "metadata": {},
   "outputs": [
    {
     "name": "stdout",
     "output_type": "stream",
     "text": [
      "Eligibility check complete and results saved.\n"
     ]
    }
   ],
   "source": [
    "# Save results to JSON file\n",
    "import json\n",
    "\n",
    "with open(r'D:\\Project\\Turmerik\\eligible_trials.json', 'w') as json_file:\n",
    "    json.dump(results, json_file, indent=4)\n",
    "\n",
    "# Save results to Excel file\n",
    "results_df = pd.DataFrame(results)\n",
    "results_df.to_excel(r'D:\\Project\\Turmerik\\eligible_trials.xlsx', index=False)\n",
    "\n",
    "print(\"Eligibility check complete and results saved.\")"
   ]
  },
  {
   "cell_type": "code",
   "execution_count": null,
   "id": "e5f9c4ae-a725-4c6c-9281-e9deef56f303",
   "metadata": {},
   "outputs": [],
   "source": []
  }
 ],
 "metadata": {
  "kernelspec": {
   "display_name": "Python 3 (ipykernel)",
   "language": "python",
   "name": "python3"
  },
  "language_info": {
   "codemirror_mode": {
    "name": "ipython",
    "version": 3
   },
   "file_extension": ".py",
   "mimetype": "text/x-python",
   "name": "python",
   "nbconvert_exporter": "python",
   "pygments_lexer": "ipython3",
   "version": "3.12.4"
  }
 },
 "nbformat": 4,
 "nbformat_minor": 5
}
